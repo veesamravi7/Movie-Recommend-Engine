{
 "cells": [
  {
   "cell_type": "code",
   "execution_count": 2,
   "id": "a7751f80-ad15-48d4-8c4f-67b23273a6dc",
   "metadata": {},
   "outputs": [
    {
     "name": "stdout",
     "output_type": "stream",
     "text": [
      "1 The Avengers\n",
      "2 Avengers: Age of Ultron\n",
      "3 Iron Man 2\n",
      "4 The Incredible Hulk\n",
      "5 Captain America: The Winter Soldier\n",
      "6 X2\n",
      "7 Captain America: Civil War\n",
      "8 X-Men\n",
      "9 X-Men: Apocalypse\n",
      "10 Thor: The Dark World\n"
     ]
    }
   ],
   "source": [
    "import numpy as n\n",
    "import pandas as p\n",
    "import difflib\n",
    "from sklearn.feature_extraction.text import TfidfVectorizer\n",
    "from sklearn.metrics.pairwise import cosine_similarity\n",
    "movie_data=p.read_csv('movies.csv')\n",
    "movie_data.head()\n",
    "movie_data.isnull().sum()\n",
    "movies_data=movie_data.dropna(subset=['genres'])\n",
    "features=movies_data[['genres','keywords','cast','director']]\n",
    "for f in features.columns:\n",
    "    features.loc[:, f] = features[f].fillna('')\n",
    "combined_data=features['genres']+features['keywords']+features['cast']+features['director']\n",
    "vectorizer=TfidfVectorizer()\n",
    "feature_vectors=vectorizer.fit_transform(combined_data)\n",
    "similarity=cosine_similarity(feature_vectors)\n",
    "def recomender(user_movie,cosine_similarity=cosine_similarity):\n",
    "    movies=movies_data['original_title'].to_list()\n",
    "    matches=difflib.get_close_matches(user_movie,movies)\n",
    "    input_words=user_movie.split()\n",
    "    close_match = [match for match in matches if all(word in match.lower() for word in input_words)][0]\n",
    "    idx=movies_data[movies_data.title==close_match].index.values[0]\n",
    "    idx=movies_data[movies_data.title==close_match].index.values[0]\n",
    "    similar_score=list(enumerate(similarity[idx]))\n",
    "    sorting=sorted(similar_score,key=lambda x:x[1],reverse=True)\n",
    "    i=0\n",
    "    for movie in sorting:\n",
    "      idx=movie[0]\n",
    "      if idx in range(len(movies_data)):\n",
    "        title=movies_data[movies_data.index==idx]['title'].values[0]\n",
    "        if i<10:\n",
    "          print(i+1,title)\n",
    "          i+=1\n",
    "          if i >= 10:\n",
    "            break   \n",
    "      else:\n",
    "        print(f\"Movie index {idx} is out of range.\")\n",
    "        break\n",
    "ob=recomender('avengers')\n",
    "\n"
   ]
  },
  {
   "cell_type": "code",
   "execution_count": 5,
   "id": "89ce37a4-4927-42a8-b5c3-de308294aa2a",
   "metadata": {},
   "outputs": [
    {
     "data": {
      "text/plain": [
       "['./../savedModels/similarity.joblib']"
      ]
     },
     "execution_count": 5,
     "metadata": {},
     "output_type": "execute_result"
    }
   ],
   "source": [
    "from joblib import dump\n",
    "dump(movies_data,'./../savedModels/movies_data.joblib')\n",
    "dump(similarity,'./../savedModels/similarity.joblib', compress=('gzip',3))"
   ]
  },
  {
   "cell_type": "code",
   "execution_count": null,
   "id": "92595536-db77-4bde-88ca-a4ac0ada348c",
   "metadata": {},
   "outputs": [],
   "source": []
  }
 ],
 "metadata": {
  "kernelspec": {
   "display_name": "Python 3 (ipykernel)",
   "language": "python",
   "name": "python3"
  },
  "language_info": {
   "codemirror_mode": {
    "name": "ipython",
    "version": 3
   },
   "file_extension": ".py",
   "mimetype": "text/x-python",
   "name": "python",
   "nbconvert_exporter": "python",
   "pygments_lexer": "ipython3",
   "version": "3.12.1"
  }
 },
 "nbformat": 4,
 "nbformat_minor": 5
}
